{
 "cells": [
  {
   "cell_type": "code",
   "execution_count": 11,
   "metadata": {},
   "outputs": [
    {
     "name": "stdout",
     "output_type": "stream",
     "text": [
      "1.23.2\n"
     ]
    },
    {
     "data": {
      "text/plain": [
       "<matplotlib.image.AxesImage at 0x1900b3815b0>"
      ]
     },
     "execution_count": 11,
     "metadata": {},
     "output_type": "execute_result"
    },
    {
     "data": {
      "image/png": "[encoded data removed]",
      "text/plain": [
       "<Figure size 640x480 with 1 Axes>"
      ]
     },
     "metadata": {},
     "output_type": "display_data"
    },
    {
     "data": {
      "image/png": "[encoded data removed]",
      "text/plain": [
       "<Figure size 640x480 with 1 Axes>"
      ]
     },
     "metadata": {},
     "output_type": "display_data"
    }
   ],
   "source": [
    "# exo cadre \n",
    "import numpy as np\n",
    "import matplotlib.pyplot as plt\n",
    " \n",
    "print(np.__version__)\n",
    "\n",
    "square=np.ones((10,10),dtype=bool)\n",
    "plt.imshow(square)\n",
    "\n",
    "\n",
    "def cadre(T):\n",
    "    \"\"\"arg:tableau de dim 2\n",
    "    renvoi:tableau avec cadre \"\"\"\n",
    "    T2=T.copy()\n",
    "    T2[1,:]=0\n",
    "    T2[-2,:]=0\n",
    "    T2[:,-2]=0\n",
    "    T2[:,1]=0\n",
    "    return T2\n",
    "\n",
    "\n",
    "plt.imshow(cadre(square))\n",
    "\n",
    "random=np.random.randint(0,21,size=(6,8),dtype='uint8')\n",
    "\n",
    "plt.imshow(random)\n",
    "plt.figure()\n",
    "plt.imshow(cadre(random))\n",
    "\n",
    "\n"
   ]
  },
  {
   "cell_type": "markdown",
   "metadata": {},
   "source": [
    "---"
   ]
  },
  {
   "cell_type": "code",
   "execution_count": null,
   "metadata": {},
   "outputs": [],
   "source": [
    "# exo cadre 2\n",
    "\n",
    "def cadre2(T):\n",
    "    \"\"\"arg:tableau de dim 2\n",
    "    renvoi:tableau avec cadre\"\"\"\n",
    "    dimT=T.shape\n",
    "    newT=np.zeros((dimT[0]+2,dimT[1]+2))\n",
    "    newT[1:-1,1:-1]=T[:,:]\n",
    "    return newT\n",
    "\n",
    "plt.imshow(random)\n",
    "plt.figure()\n",
    "plt.imshow(cadre2(random))"
   ]
  },
  {
   "cell_type": "markdown",
   "metadata": {},
   "source": [
    "---"
   ]
  },
  {
   "cell_type": "code",
   "execution_count": 7,
   "metadata": {},
   "outputs": [
    {
     "name": "stdout",
     "output_type": "stream",
     "text": [
      "[[0. 0. 0. 0. 1.]\n",
      " [0. 0. 0. 2. 0.]\n",
      " [0. 0. 3. 0. 0.]\n",
      " [0. 4. 0. 0. 0.]\n",
      " [5. 0. 0. 0. 0.]]\n"
     ]
    }
   ],
   "source": [
    "#exo_antidiagonal\n",
    "\n",
    "def antidiagonal(L):\n",
    "    \"\"\"arg:liste de nombre\n",
    "    renvoi:matrice avec ces nombres sur l'antidiagonale\"\"\"\n",
    "    M=np.zeros((len(L),len(L)))\n",
    "    for k in range(len(L)):\n",
    "        M[k,len(L)-1-k]=L[k]\n",
    "    return M\n",
    "\n",
    "print(antidiagonal([1,2,3,4,5]))\n"
   ]
  },
  {
   "cell_type": "code",
   "execution_count": null,
   "metadata": {},
   "outputs": [],
   "source": []
  }
 ],
 "metadata": {
  "kernelspec": {
   "display_name": "Python 3 (ipykernel)",
   "language": "python",
   "name": "python3"
  },
  "language_info": {
   "codemirror_mode": {
    "name": "ipython",
    "version": 3
   },
   "file_extension": ".py",
   "mimetype": "text/x-python",
   "name": "python",
   "nbconvert_exporter": "python",
   "pygments_lexer": "ipython3",
   "version": "3.9.12"
  },
  "vscode": {
   "interpreter": {
    "hash": "2172913d4612856e3bbc325c0b7fb332e765f63a52fed726fb1f267ce3eabcc0"
   }
  }
 },
 "nbformat": 4,
 "nbformat_minor": 2
}
